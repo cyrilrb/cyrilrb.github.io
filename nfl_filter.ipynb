{
 "metadata": {
  "language_info": {
   "codemirror_mode": {
    "name": "ipython",
    "version": 3
   },
   "file_extension": ".py",
   "mimetype": "text/x-python",
   "name": "python",
   "nbconvert_exporter": "python",
   "pygments_lexer": "ipython3",
   "version": "3.9.1"
  },
  "orig_nbformat": 4,
  "kernelspec": {
   "name": "python3",
   "display_name": "Python 3.9.1 64-bit"
  },
  "interpreter": {
   "hash": "6bd2fc3b4e5c01e8b20fd2f6300a586248f68c9b21a98bc60a6146107ca63caa"
  }
 },
 "nbformat": 4,
 "nbformat_minor": 2,
 "cells": [
  {
   "cell_type": "code",
   "execution_count": 142,
   "metadata": {},
   "outputs": [],
   "source": [
    "# pip install pandas"
   ]
  },
  {
   "cell_type": "code",
   "execution_count": 11,
   "metadata": {},
   "outputs": [],
   "source": [
    "# Dependencies and Setup\n",
    "import pandas as pd\n",
    "import numpy as np"
   ]
  },
  {
   "cell_type": "code",
   "execution_count": 12,
   "metadata": {},
   "outputs": [],
   "source": [
    "# File to Load \n",
    "file_to_load = \"C:\\\\Users\\\\cdark\\\\Desktop\\\\2021 NU Data Science and Visualization\\\\05 - Class Work\\\\19-Project-2\\Project work\\\\Datasets\\\\01 - Original\\\\draft.csv\""
   ]
  },
  {
   "cell_type": "code",
   "execution_count": 13,
   "metadata": {},
   "outputs": [
    {
     "output_type": "execute_result",
     "data": {
      "text/plain": [
       "   playerId  draft  round  pick  draftTradeValue draftTeam position  teamId  \\\n",
       "0  19770001   1977    1.0     1           3000.0        TB       RB    4900   \n",
       "1  19770002   1977    1.0     2           2600.0       DAL       RB    1200   \n",
       "2  19770003   1977    1.0     3           2200.0       CIN       DE     920   \n",
       "3  19770004   1977    1.0     4           1800.0       NYJ       OT    3430   \n",
       "4  19770005   1977    1.0     5           1700.0       NYG       DE    3410   \n",
       "\n",
       "  nameFirst nameLast  ...         dob  ageAtDraft  \\\n",
       "0     Ricky     Bell  ...  1955-04-08   22.084932   \n",
       "1      Tony  Dorsett  ...  1954-04-07   23.087671   \n",
       "2     Eddie  Edwards  ...  1954-04-25   23.038356   \n",
       "3    Marvin   Powell  ...  1955-08-30   21.690411   \n",
       "4      Gary    Jeter  ...  1955-01-24   22.287671   \n",
       "\n",
       "                                    playerProfileUrl     homeCity homeState  \\\n",
       "0  http://www.nfl.com/player/RickyBell/2509366/pr...      Houston        TX   \n",
       "1  http://www.nfl.com/player/TonyDorsett/2513084/...    Rochester        PA   \n",
       "2  http://www.nfl.com/player/EddieEdwards/2513479...       Sumter        SC   \n",
       "3  http://www.nfl.com/player/MarvinPowell/2523462...  Los Angeles        CA   \n",
       "4  http://www.nfl.com/player/GaryJeter/2517530/pr...      Weirton        WV   \n",
       "\n",
       "   homeCountry  highSchool hsCity  hsState hsCountry  \n",
       "0          USA         NaN    NaN      NaN       NaN  \n",
       "1          USA         NaN    NaN      NaN       NaN  \n",
       "2          USA         NaN    NaN      NaN       NaN  \n",
       "3          USA         NaN    NaN      NaN       NaN  \n",
       "4          USA         NaN    NaN      NaN       NaN  \n",
       "\n",
       "[5 rows x 27 columns]"
      ],
      "text/html": "<div>\n<style scoped>\n    .dataframe tbody tr th:only-of-type {\n        vertical-align: middle;\n    }\n\n    .dataframe tbody tr th {\n        vertical-align: top;\n    }\n\n    .dataframe thead th {\n        text-align: right;\n    }\n</style>\n<table border=\"1\" class=\"dataframe\">\n  <thead>\n    <tr style=\"text-align: right;\">\n      <th></th>\n      <th>playerId</th>\n      <th>draft</th>\n      <th>round</th>\n      <th>pick</th>\n      <th>draftTradeValue</th>\n      <th>draftTeam</th>\n      <th>position</th>\n      <th>teamId</th>\n      <th>nameFirst</th>\n      <th>nameLast</th>\n      <th>...</th>\n      <th>dob</th>\n      <th>ageAtDraft</th>\n      <th>playerProfileUrl</th>\n      <th>homeCity</th>\n      <th>homeState</th>\n      <th>homeCountry</th>\n      <th>highSchool</th>\n      <th>hsCity</th>\n      <th>hsState</th>\n      <th>hsCountry</th>\n    </tr>\n  </thead>\n  <tbody>\n    <tr>\n      <th>0</th>\n      <td>19770001</td>\n      <td>1977</td>\n      <td>1.0</td>\n      <td>1</td>\n      <td>3000.0</td>\n      <td>TB</td>\n      <td>RB</td>\n      <td>4900</td>\n      <td>Ricky</td>\n      <td>Bell</td>\n      <td>...</td>\n      <td>1955-04-08</td>\n      <td>22.084932</td>\n      <td>http://www.nfl.com/player/RickyBell/2509366/pr...</td>\n      <td>Houston</td>\n      <td>TX</td>\n      <td>USA</td>\n      <td>NaN</td>\n      <td>NaN</td>\n      <td>NaN</td>\n      <td>NaN</td>\n    </tr>\n    <tr>\n      <th>1</th>\n      <td>19770002</td>\n      <td>1977</td>\n      <td>1.0</td>\n      <td>2</td>\n      <td>2600.0</td>\n      <td>DAL</td>\n      <td>RB</td>\n      <td>1200</td>\n      <td>Tony</td>\n      <td>Dorsett</td>\n      <td>...</td>\n      <td>1954-04-07</td>\n      <td>23.087671</td>\n      <td>http://www.nfl.com/player/TonyDorsett/2513084/...</td>\n      <td>Rochester</td>\n      <td>PA</td>\n      <td>USA</td>\n      <td>NaN</td>\n      <td>NaN</td>\n      <td>NaN</td>\n      <td>NaN</td>\n    </tr>\n    <tr>\n      <th>2</th>\n      <td>19770003</td>\n      <td>1977</td>\n      <td>1.0</td>\n      <td>3</td>\n      <td>2200.0</td>\n      <td>CIN</td>\n      <td>DE</td>\n      <td>920</td>\n      <td>Eddie</td>\n      <td>Edwards</td>\n      <td>...</td>\n      <td>1954-04-25</td>\n      <td>23.038356</td>\n      <td>http://www.nfl.com/player/EddieEdwards/2513479...</td>\n      <td>Sumter</td>\n      <td>SC</td>\n      <td>USA</td>\n      <td>NaN</td>\n      <td>NaN</td>\n      <td>NaN</td>\n      <td>NaN</td>\n    </tr>\n    <tr>\n      <th>3</th>\n      <td>19770004</td>\n      <td>1977</td>\n      <td>1.0</td>\n      <td>4</td>\n      <td>1800.0</td>\n      <td>NYJ</td>\n      <td>OT</td>\n      <td>3430</td>\n      <td>Marvin</td>\n      <td>Powell</td>\n      <td>...</td>\n      <td>1955-08-30</td>\n      <td>21.690411</td>\n      <td>http://www.nfl.com/player/MarvinPowell/2523462...</td>\n      <td>Los Angeles</td>\n      <td>CA</td>\n      <td>USA</td>\n      <td>NaN</td>\n      <td>NaN</td>\n      <td>NaN</td>\n      <td>NaN</td>\n    </tr>\n    <tr>\n      <th>4</th>\n      <td>19770005</td>\n      <td>1977</td>\n      <td>1.0</td>\n      <td>5</td>\n      <td>1700.0</td>\n      <td>NYG</td>\n      <td>DE</td>\n      <td>3410</td>\n      <td>Gary</td>\n      <td>Jeter</td>\n      <td>...</td>\n      <td>1955-01-24</td>\n      <td>22.287671</td>\n      <td>http://www.nfl.com/player/GaryJeter/2517530/pr...</td>\n      <td>Weirton</td>\n      <td>WV</td>\n      <td>USA</td>\n      <td>NaN</td>\n      <td>NaN</td>\n      <td>NaN</td>\n      <td>NaN</td>\n    </tr>\n  </tbody>\n</table>\n<p>5 rows × 27 columns</p>\n</div>"
     },
     "metadata": {},
     "execution_count": 13
    }
   ],
   "source": [
    "# Read the Draft data\n",
    "raw_draft_data = pd.read_csv(file_to_load)\n",
    "raw_draft_data.head()"
   ]
  },
  {
   "cell_type": "code",
   "execution_count": 14,
   "metadata": {},
   "outputs": [
    {
     "output_type": "execute_result",
     "data": {
      "text/plain": [
       "draft    12140\n",
       "dtype: int64"
      ]
     },
     "metadata": {},
     "execution_count": 14
    }
   ],
   "source": [
    "# Determine the number of entries in data set\n",
    "count_draft_data = raw_draft_data.loc[:,['draft']]\n",
    "count_draft_data.count()"
   ]
  },
  {
   "cell_type": "code",
   "execution_count": 15,
   "metadata": {},
   "outputs": [
    {
     "output_type": "stream",
     "name": "stdout",
     "text": [
      "playerId              int64\ndraft                 int64\nround               float64\npick                  int64\ndraftTradeValue     float64\ndraftTeam            object\nposition             object\nteamId                int64\nnameFirst            object\nnameLast             object\nnameFull             object\ncollegeId             int64\nnflId               float64\ncombineId           float64\ncollege              object\nheightInches        float64\nweight              float64\ndob                  object\nageAtDraft          float64\nplayerProfileUrl     object\nhomeCity             object\nhomeState            object\nhomeCountry          object\nhighSchool           object\nhsCity               object\nhsState              object\nhsCountry            object\ndtype: object\n"
     ]
    }
   ],
   "source": [
    "# Look over the dtypes of the dataset\n",
    "print(raw_draft_data.dtypes)"
   ]
  },
  {
   "cell_type": "code",
   "execution_count": 16,
   "metadata": {},
   "outputs": [
    {
     "output_type": "execute_result",
     "data": {
      "text/plain": [
       "   playerId  draft  round  pick  draftTradeValue draftTeam position  teamId\n",
       "0  19770001   1977    1.0     1           3000.0        TB       RB    4900\n",
       "1  19770002   1977    1.0     2           2600.0       DAL       RB    1200\n",
       "2  19770003   1977    1.0     3           2200.0       CIN       DE     920\n",
       "3  19770004   1977    1.0     4           1800.0       NYJ       OT    3430\n",
       "4  19770005   1977    1.0     5           1700.0       NYG       DE    3410"
      ],
      "text/html": "<div>\n<style scoped>\n    .dataframe tbody tr th:only-of-type {\n        vertical-align: middle;\n    }\n\n    .dataframe tbody tr th {\n        vertical-align: top;\n    }\n\n    .dataframe thead th {\n        text-align: right;\n    }\n</style>\n<table border=\"1\" class=\"dataframe\">\n  <thead>\n    <tr style=\"text-align: right;\">\n      <th></th>\n      <th>playerId</th>\n      <th>draft</th>\n      <th>round</th>\n      <th>pick</th>\n      <th>draftTradeValue</th>\n      <th>draftTeam</th>\n      <th>position</th>\n      <th>teamId</th>\n    </tr>\n  </thead>\n  <tbody>\n    <tr>\n      <th>0</th>\n      <td>19770001</td>\n      <td>1977</td>\n      <td>1.0</td>\n      <td>1</td>\n      <td>3000.0</td>\n      <td>TB</td>\n      <td>RB</td>\n      <td>4900</td>\n    </tr>\n    <tr>\n      <th>1</th>\n      <td>19770002</td>\n      <td>1977</td>\n      <td>1.0</td>\n      <td>2</td>\n      <td>2600.0</td>\n      <td>DAL</td>\n      <td>RB</td>\n      <td>1200</td>\n    </tr>\n    <tr>\n      <th>2</th>\n      <td>19770003</td>\n      <td>1977</td>\n      <td>1.0</td>\n      <td>3</td>\n      <td>2200.0</td>\n      <td>CIN</td>\n      <td>DE</td>\n      <td>920</td>\n    </tr>\n    <tr>\n      <th>3</th>\n      <td>19770004</td>\n      <td>1977</td>\n      <td>1.0</td>\n      <td>4</td>\n      <td>1800.0</td>\n      <td>NYJ</td>\n      <td>OT</td>\n      <td>3430</td>\n    </tr>\n    <tr>\n      <th>4</th>\n      <td>19770005</td>\n      <td>1977</td>\n      <td>1.0</td>\n      <td>5</td>\n      <td>1700.0</td>\n      <td>NYG</td>\n      <td>DE</td>\n      <td>3410</td>\n    </tr>\n  </tbody>\n</table>\n</div>"
     },
     "metadata": {},
     "execution_count": 16
    }
   ],
   "source": [
    "# Redefine the table with needed colums\n",
    "raw_draft_data_1 = raw_draft_data.loc[:,['playerId' ,'draft', 'round', 'pick', 'draftTradeValue', 'draftTeam' , 'position', 'teamId']]\n",
    "raw_draft_data_1.head()"
   ]
  },
  {
   "cell_type": "code",
   "execution_count": 38,
   "metadata": {},
   "outputs": [
    {
     "output_type": "execute_result",
     "data": {
      "text/plain": [
       "    playerId  draft  round  pick  draftTradeValue draftTeam position  teamId\n",
       "5   19770006   1977    1.0     6           1600.0       ATL       OT     200\n",
       "19  19770020   1977    1.0    20            850.0       ATL       DT     200\n",
       "35  19770036   1977    2.0    36            540.0       ATL       OG     200\n",
       "62  19770063   1977    3.0    63            276.0       ATL       DE     200\n",
       "88  19770089   1977    4.0    89            145.0       ATL        K     200"
      ],
      "text/html": "<div>\n<style scoped>\n    .dataframe tbody tr th:only-of-type {\n        vertical-align: middle;\n    }\n\n    .dataframe tbody tr th {\n        vertical-align: top;\n    }\n\n    .dataframe thead th {\n        text-align: right;\n    }\n</style>\n<table border=\"1\" class=\"dataframe\">\n  <thead>\n    <tr style=\"text-align: right;\">\n      <th></th>\n      <th>playerId</th>\n      <th>draft</th>\n      <th>round</th>\n      <th>pick</th>\n      <th>draftTradeValue</th>\n      <th>draftTeam</th>\n      <th>position</th>\n      <th>teamId</th>\n    </tr>\n  </thead>\n  <tbody>\n    <tr>\n      <th>5</th>\n      <td>19770006</td>\n      <td>1977</td>\n      <td>1.0</td>\n      <td>6</td>\n      <td>1600.0</td>\n      <td>ATL</td>\n      <td>OT</td>\n      <td>200</td>\n    </tr>\n    <tr>\n      <th>19</th>\n      <td>19770020</td>\n      <td>1977</td>\n      <td>1.0</td>\n      <td>20</td>\n      <td>850.0</td>\n      <td>ATL</td>\n      <td>DT</td>\n      <td>200</td>\n    </tr>\n    <tr>\n      <th>35</th>\n      <td>19770036</td>\n      <td>1977</td>\n      <td>2.0</td>\n      <td>36</td>\n      <td>540.0</td>\n      <td>ATL</td>\n      <td>OG</td>\n      <td>200</td>\n    </tr>\n    <tr>\n      <th>62</th>\n      <td>19770063</td>\n      <td>1977</td>\n      <td>3.0</td>\n      <td>63</td>\n      <td>276.0</td>\n      <td>ATL</td>\n      <td>DE</td>\n      <td>200</td>\n    </tr>\n    <tr>\n      <th>88</th>\n      <td>19770089</td>\n      <td>1977</td>\n      <td>4.0</td>\n      <td>89</td>\n      <td>145.0</td>\n      <td>ATL</td>\n      <td>K</td>\n      <td>200</td>\n    </tr>\n  </tbody>\n</table>\n</div>"
     },
     "metadata": {},
     "execution_count": 38
    }
   ],
   "source": [
    "# Filter table based on decade and team (ATL)\n",
    "raw_draft_data_2 = raw_draft_data_1[(raw_draft_data_1['draft']>=1970) & (raw_draft_data_1['draft']<=2010) & (raw_draft_data_1['draftTeam']=='ATL')]\n",
    "raw_draft_data_2.head()"
   ]
  },
  {
   "cell_type": "code",
   "execution_count": 39,
   "metadata": {},
   "outputs": [
    {
     "output_type": "execute_result",
     "data": {
      "text/plain": [
       "          count\n",
       "position       \n",
       "DB           56\n",
       "LB           54\n",
       "WR           43\n",
       "RB           33\n",
       "DE           22"
      ],
      "text/html": "<div>\n<style scoped>\n    .dataframe tbody tr th:only-of-type {\n        vertical-align: middle;\n    }\n\n    .dataframe tbody tr th {\n        vertical-align: top;\n    }\n\n    .dataframe thead th {\n        text-align: right;\n    }\n</style>\n<table border=\"1\" class=\"dataframe\">\n  <thead>\n    <tr style=\"text-align: right;\">\n      <th></th>\n      <th>count</th>\n    </tr>\n    <tr>\n      <th>position</th>\n      <th></th>\n    </tr>\n  </thead>\n  <tbody>\n    <tr>\n      <th>DB</th>\n      <td>56</td>\n    </tr>\n    <tr>\n      <th>LB</th>\n      <td>54</td>\n    </tr>\n    <tr>\n      <th>WR</th>\n      <td>43</td>\n    </tr>\n    <tr>\n      <th>RB</th>\n      <td>33</td>\n    </tr>\n    <tr>\n      <th>DE</th>\n      <td>22</td>\n    </tr>\n  </tbody>\n</table>\n</div>"
     },
     "metadata": {},
     "execution_count": 39
    }
   ],
   "source": [
    "# if then statement to create a dictionary to count the number of times a postion was drafted\n",
    "\n",
    "raw_draft_data_3 = raw_draft_data_2['position'].value_counts()\n",
    "\n",
    "raw_draft_data_4 = pd.DataFrame(raw_draft_data_3, columns=['position'])\n",
    "\n",
    "raw_draft_data_4 = raw_draft_data_4.rename(columns={\"position\":\"count\"})\n",
    "raw_draft_data_4 = raw_draft_data_4 .rename_axis(\"position\")\n",
    "\n",
    "raw_draft_data_5 = raw_draft_data_4.head(5)\n",
    "raw_draft_data_5"
   ]
  },
  {
   "cell_type": "code",
   "execution_count": 40,
   "metadata": {},
   "outputs": [],
   "source": [
    "# export the data to be used on d3 bar chart\n",
    "\n",
    "raw_draft_data_5.to_csv(\"C:\\\\Users\\\\cdark\\\\Desktop\\\\2021 NU Data Science and Visualization\\\\05 - Class Work\\\\19-Project-2\\\\Project work\\\\Radial Bar Chart\\\\Draft Results.csv\")"
   ]
  },
  {
   "cell_type": "code",
   "execution_count": null,
   "metadata": {},
   "outputs": [],
   "source": []
  }
 ]
}